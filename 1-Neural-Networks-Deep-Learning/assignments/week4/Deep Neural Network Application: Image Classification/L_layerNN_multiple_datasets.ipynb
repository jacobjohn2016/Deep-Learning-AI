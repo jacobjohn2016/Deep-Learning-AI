{
 "cells": [
  {
   "cell_type": "markdown",
   "metadata": {},
   "source": [
    "# Deep Neural Network for Planar Classification"
   ]
  },
  {
   "cell_type": "code",
   "execution_count": 1,
   "metadata": {},
   "outputs": [],
   "source": [
    "import time\n",
    "import numpy as np\n",
    "import h5py\n",
    "import matplotlib.pyplot as plt\n",
    "import scipy\n",
    "from PIL import Image\n",
    "from scipy import ndimage\n",
    "import imageio\n",
    "from skimage.transform import resize\n",
    "import sklearn\n",
    "import sklearn.datasets\n",
    "import sklearn.linear_model\n",
    "from planar_utils import plot_decision_boundary, sigmoid, load_planar_dataset, load_extra_datasets\n",
    "from dnn_app_utils_v3 import *\n",
    "\n",
    "%matplotlib inline\n",
    "plt.rcParams['figure.figsize'] = (5.0, 4.0) # set default size of plots\n",
    "plt.rcParams['image.interpolation'] = 'nearest'\n",
    "plt.rcParams['image.cmap'] = 'gray'\n",
    "\n",
    "%load_ext autoreload\n",
    "%autoreload 2\n",
    "\n",
    "np.random.seed(1)"
   ]
  },
  {
   "cell_type": "code",
   "execution_count": 2,
   "metadata": {},
   "outputs": [],
   "source": [
    "# Datasets\n",
    "noisy_circles, noisy_moons, blobs, gaussian_quantiles, no_structure = load_extra_datasets()\n",
    "\n",
    "datasets = {\"noisy_circles\": noisy_circles,\n",
    "            \"noisy_moons\": noisy_moons,\n",
    "            \"blobs\": blobs,\n",
    "            \"gaussian_quantiles\": gaussian_quantiles}"
   ]
  },
  {
   "cell_type": "markdown",
   "metadata": {},
   "source": [
    "## Helper Functions"
   ]
  },
  {
   "cell_type": "code",
   "execution_count": 3,
   "metadata": {},
   "outputs": [],
   "source": [
    "def planar_model_forward(X, parameters):\n",
    "    \"\"\"\n",
    "    Implement forward propagation for the [LINEAR->SIGMOID]*(L-1)->LINEAR->SIGMOID computation\n",
    "    \n",
    "    Arguments:\n",
    "    X -- data, numpy array of shape (input size, number of examples)\n",
    "    parameters -- output of initialize_parameters_deep()\n",
    "    \n",
    "    Returns:\n",
    "    AL -- last post-activation value\n",
    "    caches -- list of caches containing:\n",
    "                every cache of linear_relu_forward() (there are L-1 of them, indexed from 0 to L-2)\n",
    "                the cache of linear_sigmoid_forward() (there is one, indexed L-1)\n",
    "    \"\"\"\n",
    "\n",
    "    caches = []\n",
    "    A = X\n",
    "    L = len(parameters) // 2                  # number of layers in the neural network\n",
    "    \n",
    "    # Implement [LINEAR -> SIGMOID]*(L-1). Add \"cache\" to the \"caches\" list.\n",
    "    for l in range(1, L):\n",
    "        A_prev = A \n",
    "        A, cache = linear_activation_forward(A_prev, parameters['W' + str(l)],\n",
    "                                             parameters['b' + str(l)], activation = \"sigmoid\")\n",
    "        caches.append(cache)\n",
    "    \n",
    "    # Implement LINEAR -> SIGMOID. Add \"cache\" to the \"caches\" list.\n",
    "    AL, cache = linear_activation_forward(A, parameters['W' + str(L)],\n",
    "                                          parameters['b' + str(L)], activation = \"sigmoid\")\n",
    "    caches.append(cache)\n",
    "    \n",
    "    assert(AL.shape == (1,X.shape[1]))\n",
    "            \n",
    "    return AL, caches"
   ]
  },
  {
   "cell_type": "code",
   "execution_count": 4,
   "metadata": {},
   "outputs": [],
   "source": [
    "def planar_model_backward(AL, Y, caches):\n",
    "    \"\"\"\n",
    "    Implement the backward propagation for the [LINEAR->SIGMOID] * (L-1) -> LINEAR -> SIGMOID group\n",
    "    \n",
    "    Arguments:\n",
    "    AL -- probability vector, output of the forward propagation (L_model_forward())\n",
    "    Y -- true \"label\" vector (containing 0 if non-cat, 1 if cat)\n",
    "    caches -- list of caches containing:\n",
    "                every cache of linear_activation_forward() with \"relu\" (there are (L-1) or them, indexes from 0 to L-2)\n",
    "                the cache of linear_activation_forward() with \"sigmoid\" (there is one, index L-1)\n",
    "    \n",
    "    Returns:\n",
    "    grads -- A dictionary with the gradients\n",
    "             grads[\"dA\" + str(l)] = ... \n",
    "             grads[\"dW\" + str(l)] = ...\n",
    "             grads[\"db\" + str(l)] = ... \n",
    "    \"\"\"\n",
    "    grads = {}\n",
    "    L = len(caches) # the number of layers\n",
    "    m = AL.shape[1]\n",
    "    Y = Y.reshape(AL.shape) # after this line, Y is the same shape as AL\n",
    "    \n",
    "    # Initializing the backpropagation\n",
    "    dAL = - (np.divide(Y, AL) - np.divide(1 - Y, 1 - AL))\n",
    "    \n",
    "    # Lth layer (SIGMOID -> LINEAR) gradients. Inputs: \"AL, Y, caches\". Outputs: \"grads[\"dAL\"], grads[\"dWL\"], grads[\"dbL\"]\n",
    "    current_cache = caches[L-1]\n",
    "    grads[\"dA\" + str(L-1)], grads[\"dW\" + str(L)], grads[\"db\" + str(L)] =\\\n",
    "    linear_activation_backward(dAL, current_cache, activation = \"sigmoid\")\n",
    "    \n",
    "    for l in reversed(range(L-1)):\n",
    "        # lth layer: (SIGMOID -> LINEAR) gradients.\n",
    "        current_cache = caches[l]\n",
    "        dA_prev_temp, dW_temp, db_temp =\\\n",
    "        linear_activation_backward(grads[\"dA\" + str(l + 1)], current_cache, activation = \"sigmoid\")\n",
    "        grads[\"dA\" + str(l)] = dA_prev_temp\n",
    "        grads[\"dW\" + str(l + 1)] = dW_temp\n",
    "        grads[\"db\" + str(l + 1)] = db_temp\n",
    "\n",
    "    return grads"
   ]
  },
  {
   "cell_type": "code",
   "execution_count": 5,
   "metadata": {},
   "outputs": [],
   "source": [
    "def L_layer_model(X, Y, layers_dims, learning_rate = 0.0075, num_iterations = 3000, print_cost=False):#lr was 0.009\n",
    "    \"\"\"\n",
    "    Implements a L-layer neural network: [LINEAR->RELU]*(L-1)->LINEAR->SIGMOID.\n",
    "    \n",
    "    Arguments:\n",
    "    X -- data, numpy array of shape (number of examples, num_px * num_px * 3)\n",
    "    Y -- true \"label\" vector (containing 0 if cat, 1 if non-cat), of shape (1, number of examples)\n",
    "    layers_dims -- list containing the input size and each layer size, of length (number of layers + 1).\n",
    "    learning_rate -- learning rate of the gradient descent update rule\n",
    "    num_iterations -- number of iterations of the optimization loop\n",
    "    print_cost -- if True, it prints the cost every 100 steps\n",
    "    \n",
    "    Returns:\n",
    "    parameters -- parameters learnt by the model. They can then be used to predict.\n",
    "    \"\"\"\n",
    "\n",
    "    np.random.seed(1)\n",
    "    costs = []                         # keep track of cost\n",
    "    \n",
    "    # Parameters initialization. (≈ 1 line of code)\n",
    "    ### START CODE HERE ###\n",
    "    parameters = initialize_parameters_deep(layers_dims)\n",
    "    ### END CODE HERE ###\n",
    "    \n",
    "    # Loop (gradient descent)\n",
    "    for i in range(0, num_iterations):\n",
    "\n",
    "        # Forward propagation: [LINEAR -> RELU]*(L-1) -> LINEAR -> SIGMOID.\n",
    "        ### START CODE HERE ### (≈ 1 line of code)\n",
    "        AL, caches = planar_model_forward(X, parameters)\n",
    "        ### END CODE HERE ###\n",
    "        \n",
    "        # Compute cost.\n",
    "        ### START CODE HERE ### (≈ 1 line of code)\n",
    "        cost = compute_cost(AL, Y)\n",
    "        ### END CODE HERE ###\n",
    "    \n",
    "        # Backward propagation.\n",
    "        ### START CODE HERE ### (≈ 1 line of code)\n",
    "        grads = planar_model_backward(AL, Y, caches)\n",
    "        ### END CODE HERE ###\n",
    " \n",
    "        # Update parameters.\n",
    "        ### START CODE HERE ### (≈ 1 line of code)\n",
    "        parameters = update_parameters(parameters, grads, learning_rate)\n",
    "        ### END CODE HERE ###\n",
    "                \n",
    "        # Print the cost every 100 training example\n",
    "        if print_cost and i % 100 == 0:\n",
    "            print (\"Cost after iteration %i: %f\" %(i, cost))\n",
    "        if print_cost and i % 100 == 0:\n",
    "            costs.append(cost)\n",
    "            \n",
    "    # plot the cost\n",
    "    plt.plot(np.squeeze(costs))\n",
    "    plt.ylabel('cost')\n",
    "    plt.xlabel('iterations (per hundred)')\n",
    "    plt.title(\"Learning rate =\" + str(learning_rate))\n",
    "    plt.show()\n",
    "    \n",
    "    return parameters"
   ]
  },
  {
   "cell_type": "code",
   "execution_count": 6,
   "metadata": {},
   "outputs": [],
   "source": [
    "def planar_predict(parameters, X):\n",
    "    \"\"\"\n",
    "    Using the learned parameters, predicts a class for each example in X\n",
    "    \n",
    "    Arguments:\n",
    "    parameters -- python dictionary containing your parameters \n",
    "    X -- input data of size (n_x, m)\n",
    "    \n",
    "    Returns\n",
    "    predictions -- vector of predictions of our model (red: 0 / blue: 1)\n",
    "    \"\"\"\n",
    "    \n",
    "    # Computes probabilities using forward propagation, and classifies to 0/1 using 0.5 as the threshold.\n",
    "    ### START CODE HERE ### (≈ 2 lines of code)\n",
    "    AL, cache = L_model_forward(X, parameters)\n",
    "    predictions = (AL > 0.5)\n",
    "    ### END CODE HERE ###\n",
    "    \n",
    "    return predictions"
   ]
  },
  {
   "cell_type": "code",
   "execution_count": 7,
   "metadata": {},
   "outputs": [],
   "source": [
    "### CONSTANTS ###\n",
    "layers_dims = [2, 4, 4, 1] #  4-layer model"
   ]
  },
  {
   "cell_type": "markdown",
   "metadata": {},
   "source": [
    "## `noisy_moons`"
   ]
  },
  {
   "cell_type": "code",
   "execution_count": 8,
   "metadata": {},
   "outputs": [
    {
     "data": {
      "image/png": "[encoded data removed]",
      "text/plain": [
       "<Figure size 360x288 with 1 Axes>"
      ]
     },
     "metadata": {
      "needs_background": "light"
     },
     "output_type": "display_data"
    }
   ],
   "source": [
    "### START CODE HERE ### (choose your dataset)\n",
    "dataset = \"noisy_moons\"\n",
    "### END CODE HERE ###\n",
    "\n",
    "X, Y = datasets[dataset]\n",
    "X, Y = X.T, Y.reshape(1, Y.shape[0])\n",
    "\n",
    "# make blobs binary\n",
    "if dataset == \"blobs\":\n",
    "    Y = Y%2\n",
    "\n",
    "# Visualize the data\n",
    "plt.scatter(X[0, :], X[1, :], c=Y, s=40, cmap=plt.cm.Spectral);"
   ]
  },
  {
   "cell_type": "code",
   "execution_count": 9,
   "metadata": {},
   "outputs": [
    {
     "data": {
      "text/plain": [
       "(2, 200)"
      ]
     },
     "execution_count": 9,
     "metadata": {},
     "output_type": "execute_result"
    }
   ],
   "source": [
    "X.shape"
   ]
  },
  {
   "cell_type": "code",
   "execution_count": 10,
   "metadata": {
    "scrolled": true
   },
   "outputs": [
    {
     "name": "stdout",
     "output_type": "stream",
     "text": [
      "Cost after iteration 0: 0.704162\n",
      "Cost after iteration 100: 0.357031\n",
      "Cost after iteration 200: 0.322863\n",
      "Cost after iteration 300: 0.321623\n",
      "Cost after iteration 400: 0.320816\n",
      "Cost after iteration 500: 0.320188\n",
      "Cost after iteration 600: 0.319683\n",
      "Cost after iteration 700: 0.319270\n",
      "Cost after iteration 800: 0.318930\n",
      "Cost after iteration 900: 0.318647\n",
      "Cost after iteration 1000: 0.318410\n",
      "Cost after iteration 1100: 0.318210\n",
      "Cost after iteration 1200: 0.318039\n",
      "Cost after iteration 1300: 0.317892\n",
      "Cost after iteration 1400: 0.317765\n",
      "Cost after iteration 1500: 0.317654\n",
      "Cost after iteration 1600: 0.317557\n",
      "Cost after iteration 1700: 0.317470\n",
      "Cost after iteration 1800: 0.317393\n",
      "Cost after iteration 1900: 0.317323\n",
      "Cost after iteration 2000: 0.317260\n",
      "Cost after iteration 2100: 0.317203\n",
      "Cost after iteration 2200: 0.317151\n",
      "Cost after iteration 2300: 0.317102\n",
      "Cost after iteration 2400: 0.317058\n",
      "Cost after iteration 2500: 0.317016\n",
      "Cost after iteration 2600: 0.316978\n",
      "Cost after iteration 2700: 0.316941\n",
      "Cost after iteration 2800: 0.316907\n",
      "Cost after iteration 2900: 0.316874\n",
      "Cost after iteration 3000: 0.316843\n",
      "Cost after iteration 3100: 0.316814\n",
      "Cost after iteration 3200: 0.316785\n",
      "Cost after iteration 3300: 0.316758\n",
      "Cost after iteration 3400: 0.316731\n",
      "Cost after iteration 3500: 0.316705\n",
      "Cost after iteration 3600: 0.316679\n",
      "Cost after iteration 3700: 0.316654\n",
      "Cost after iteration 3800: 0.316629\n",
      "Cost after iteration 3900: 0.316603\n",
      "Cost after iteration 4000: 0.316578\n",
      "Cost after iteration 4100: 0.316552\n",
      "Cost after iteration 4200: 0.316525\n",
      "Cost after iteration 4300: 0.316498\n",
      "Cost after iteration 4400: 0.316468\n",
      "Cost after iteration 4500: 0.316436\n",
      "Cost after iteration 4600: 0.316400\n",
      "Cost after iteration 4700: 0.316359\n",
      "Cost after iteration 4800: 0.316307\n",
      "Cost after iteration 4900: 0.316238\n",
      "Cost after iteration 5000: 0.316135\n",
      "Cost after iteration 5100: 0.315962\n",
      "Cost after iteration 5200: 0.315629\n",
      "Cost after iteration 5300: 0.314932\n",
      "Cost after iteration 5400: 0.313482\n",
      "Cost after iteration 5500: 0.310656\n",
      "Cost after iteration 5600: 0.305619\n",
      "Cost after iteration 5700: 0.297082\n",
      "Cost after iteration 5800: 0.252067\n",
      "Cost after iteration 5900: 0.183651\n",
      "Cost after iteration 6000: 0.129383\n",
      "Cost after iteration 6100: 0.111527\n",
      "Cost after iteration 6200: 0.103707\n",
      "Cost after iteration 6300: 0.099939\n",
      "Cost after iteration 6400: 0.097967\n",
      "Cost after iteration 6500: 0.096830\n",
      "Cost after iteration 6600: 0.096108\n",
      "Cost after iteration 6700: 0.095604\n",
      "Cost after iteration 6800: 0.095227\n",
      "Cost after iteration 6900: 0.094928\n",
      "Cost after iteration 7000: 0.094682\n",
      "Cost after iteration 7100: 0.094474\n",
      "Cost after iteration 7200: 0.094294\n",
      "Cost after iteration 7300: 0.094136\n",
      "Cost after iteration 7400: 0.093996\n",
      "Cost after iteration 7500: 0.093869\n",
      "Cost after iteration 7600: 0.093753\n",
      "Cost after iteration 7700: 0.093646\n",
      "Cost after iteration 7800: 0.093548\n",
      "Cost after iteration 7900: 0.093456\n",
      "Cost after iteration 8000: 0.093369\n",
      "Cost after iteration 8100: 0.093288\n",
      "Cost after iteration 8200: 0.093212\n",
      "Cost after iteration 8300: 0.093140\n",
      "Cost after iteration 8400: 0.093071\n",
      "Cost after iteration 8500: 0.093006\n",
      "Cost after iteration 8600: 0.092944\n",
      "Cost after iteration 8700: 0.092885\n",
      "Cost after iteration 8800: 0.092828\n",
      "Cost after iteration 8900: 0.092774\n",
      "Cost after iteration 9000: 0.092722\n",
      "Cost after iteration 9100: 0.092673\n",
      "Cost after iteration 9200: 0.092625\n",
      "Cost after iteration 9300: 0.092579\n",
      "Cost after iteration 9400: 0.092535\n",
      "Cost after iteration 9500: 0.092492\n",
      "Cost after iteration 9600: 0.092452\n",
      "Cost after iteration 9700: 0.092412\n",
      "Cost after iteration 9800: 0.092374\n",
      "Cost after iteration 9900: 0.092337\n",
      "Cost after iteration 10000: 0.092301\n",
      "Cost after iteration 10100: 0.092267\n",
      "Cost after iteration 10200: 0.092260\n",
      "Cost after iteration 10300: 0.093170\n",
      "Cost after iteration 10400: 0.093023\n",
      "Cost after iteration 10500: 0.092805\n",
      "Cost after iteration 10600: 0.092702\n",
      "Cost after iteration 10700: 0.092629\n",
      "Cost after iteration 10800: 0.092578\n",
      "Cost after iteration 10900: 0.092536\n",
      "Cost after iteration 11000: 0.092500\n",
      "Cost after iteration 11100: 0.092466\n",
      "Cost after iteration 11200: 0.092434\n",
      "Cost after iteration 11300: 0.092402\n",
      "Cost after iteration 11400: 0.092370\n",
      "Cost after iteration 11500: 0.092339\n",
      "Cost after iteration 11600: 0.092309\n",
      "Cost after iteration 11700: 0.092278\n",
      "Cost after iteration 11800: 0.092248\n",
      "Cost after iteration 11900: 0.092218\n",
      "Cost after iteration 12000: 0.092188\n",
      "Cost after iteration 12100: 0.092158\n",
      "Cost after iteration 12200: 0.092129\n",
      "Cost after iteration 12300: 0.092099\n",
      "Cost after iteration 12400: 0.092070\n",
      "Cost after iteration 12500: 0.092040\n",
      "Cost after iteration 12600: 0.092011\n",
      "Cost after iteration 12700: 0.091981\n",
      "Cost after iteration 12800: 0.091952\n",
      "Cost after iteration 12900: 0.091922\n",
      "Cost after iteration 13000: 0.091893\n",
      "Cost after iteration 13100: 0.091863\n",
      "Cost after iteration 13200: 0.091834\n",
      "Cost after iteration 13300: 0.091804\n",
      "Cost after iteration 13400: 0.091774\n",
      "Cost after iteration 13500: 0.091744\n",
      "Cost after iteration 13600: 0.091714\n",
      "Cost after iteration 13700: 0.091683\n",
      "Cost after iteration 13800: 0.091653\n",
      "Cost after iteration 13900: 0.091622\n",
      "Cost after iteration 14000: 0.091591\n",
      "Cost after iteration 14100: 0.091560\n",
      "Cost after iteration 14200: 0.091528\n",
      "Cost after iteration 14300: 0.091496\n",
      "Cost after iteration 14400: 0.091464\n",
      "Cost after iteration 14500: 0.091432\n",
      "Cost after iteration 14600: 0.091400\n",
      "Cost after iteration 14700: 0.091367\n",
      "Cost after iteration 14800: 0.091334\n",
      "Cost after iteration 14900: 0.091301\n",
      "Cost after iteration 15000: 0.091269\n",
      "Cost after iteration 15100: 0.091237\n",
      "Cost after iteration 15200: 0.091206\n",
      "Cost after iteration 15300: 0.091177\n",
      "Cost after iteration 15400: 0.091150\n",
      "Cost after iteration 15500: 0.091126\n",
      "Cost after iteration 15600: 0.091104\n",
      "Cost after iteration 15700: 0.091083\n",
      "Cost after iteration 15800: 0.091061\n",
      "Cost after iteration 15900: 0.091040\n",
      "Cost after iteration 16000: 0.091018\n",
      "Cost after iteration 16100: 0.090995\n",
      "Cost after iteration 16200: 0.090973\n",
      "Cost after iteration 16300: 0.090949\n",
      "Cost after iteration 16400: 0.090925\n",
      "Cost after iteration 16500: 0.090901\n",
      "Cost after iteration 16600: 0.090875\n",
      "Cost after iteration 16700: 0.090849\n",
      "Cost after iteration 16800: 0.090823\n",
      "Cost after iteration 16900: 0.090796\n",
      "Cost after iteration 17000: 0.090767\n",
      "Cost after iteration 17100: 0.090738\n",
      "Cost after iteration 17200: 0.090708\n",
      "Cost after iteration 17300: 0.090678\n",
      "Cost after iteration 17400: 0.090646\n",
      "Cost after iteration 17500: 0.090613\n",
      "Cost after iteration 17600: 0.090580\n",
      "Cost after iteration 17700: 0.090545\n",
      "Cost after iteration 17800: 0.090509\n",
      "Cost after iteration 17900: 0.090472\n",
      "Cost after iteration 18000: 0.090434\n",
      "Cost after iteration 18100: 0.090395\n",
      "Cost after iteration 18200: 0.090355\n",
      "Cost after iteration 18300: 0.090313\n",
      "Cost after iteration 18400: 0.090271\n",
      "Cost after iteration 18500: 0.090227\n",
      "Cost after iteration 18600: 0.090182\n",
      "Cost after iteration 18700: 0.090137\n",
      "Cost after iteration 18800: 0.090090\n",
      "Cost after iteration 18900: 0.090041\n",
      "Cost after iteration 19000: 0.089992\n",
      "Cost after iteration 19100: 0.089942\n",
      "Cost after iteration 19200: 0.089891\n",
      "Cost after iteration 19300: 0.089839\n",
      "Cost after iteration 19400: 0.089786\n",
      "Cost after iteration 19500: 0.089732\n",
      "Cost after iteration 19600: 0.089677\n",
      "Cost after iteration 19700: 0.089621\n",
      "Cost after iteration 19800: 0.089565\n",
      "Cost after iteration 19900: 0.089508\n"
     ]
    },
    {
     "data": {
      "image/png": "[encoded data removed]",
      "text/plain": [
       "<Figure size 360x288 with 1 Axes>"
      ]
     },
     "metadata": {
      "needs_background": "light"
     },
     "output_type": "display_data"
    }
   ],
   "source": [
    "parameters = L_layer_model(X, Y, layers_dims, learning_rate = 1.2, num_iterations = 20000, print_cost = True)"
   ]
  },
  {
   "cell_type": "code",
   "execution_count": 11,
   "metadata": {},
   "outputs": [
    {
     "name": "stdout",
     "output_type": "stream",
     "text": [
      "Accuracy: 0.735\n"
     ]
    }
   ],
   "source": [
    "pred_train = predict(X, Y, parameters)"
   ]
  },
  {
   "cell_type": "code",
   "execution_count": 12,
   "metadata": {},
   "outputs": [
    {
     "data": {
      "text/plain": [
       "Text(0.5, 1.0, 'Decision Boundary for architecture [2, 4, 4, 1]')"
      ]
     },
     "execution_count": 12,
     "metadata": {},
     "output_type": "execute_result"
    },
    {
     "data": {
      "image/png": "[encoded data removed]",
      "text/plain": [
       "<Figure size 360x288 with 1 Axes>"
      ]
     },
     "metadata": {
      "needs_background": "light"
     },
     "output_type": "display_data"
    }
   ],
   "source": [
    "# Plot the decision boundary\n",
    "plot_decision_boundary(lambda x: planar_predict(parameters, x.T), X, Y)\n",
    "plt.title(\"Decision Boundary for architecture \" + str(layers_dims))"
   ]
  }
 ],
 "metadata": {
  "kernelspec": {
   "display_name": "Python 3",
   "language": "python",
   "name": "python3"
  },
  "language_info": {
   "codemirror_mode": {
    "name": "ipython",
    "version": 3
   },
   "file_extension": ".py",
   "mimetype": "text/x-python",
   "name": "python",
   "nbconvert_exporter": "python",
   "pygments_lexer": "ipython3",
   "version": "3.8.4"
  }
 },
 "nbformat": 4,
 "nbformat_minor": 4
}
