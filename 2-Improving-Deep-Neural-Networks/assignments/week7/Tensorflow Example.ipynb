{
 "cells": [
  {
   "cell_type": "code",
   "execution_count": 1,
   "metadata": {},
   "outputs": [],
   "source": [
    "import warnings\n",
    "warnings.filterwarnings(\"ignore\")"
   ]
  },
  {
   "cell_type": "code",
   "execution_count": 2,
   "metadata": {},
   "outputs": [],
   "source": [
    "import numpy as np\n",
    "import tensorflow as tf"
   ]
  },
  {
   "cell_type": "markdown",
   "metadata": {},
   "source": [
    "We're going to try and minimize:\n",
    "\n",
    "$J(w) = w^{2} - 10w + 25$\n",
    "\n",
    "**Variable vs Placeholder:** You dont have to provide an initial value in `tf.placeholder` and you can specify it at runtime with `feed_dict` argument inside `Session.run` , whereas in `tf.Variable` you can to provide initial value when you declare it."
   ]
  },
  {
   "cell_type": "code",
   "execution_count": 3,
   "metadata": {},
   "outputs": [
    {
     "name": "stdout",
     "output_type": "stream",
     "text": [
      "WARNING:tensorflow:From /Users/jacobjohn/Codes/Deep-Learning-Specialization/.venv/lib/python3.7/site-packages/tensorflow/python/framework/op_def_library.py:263: colocate_with (from tensorflow.python.framework.ops) is deprecated and will be removed in a future version.\n",
      "Instructions for updating:\n",
      "Colocations handled automatically by placer.\n",
      "0.0\n"
     ]
    }
   ],
   "source": [
    "coefficients = np.array([[1.], [-10.], [25.]]) # can change coefficients of function here\n",
    "\n",
    "# defining parameter\n",
    "w = tf.Variable(0, dtype=tf.float32)\n",
    "x = tf.placeholder(tf.float32, [3, 1])\n",
    "\n",
    "# define cost\n",
    "# cost = tf.add(tf.add(w**2, tf.multiply(-10., w)), 25.)\n",
    "cost = x[0][0]*w**2 + x[1][0]*w + x[2][0]\n",
    "\n",
    "# define a gradient descent optimizer with a learning rate of 0.01\n",
    "train = tf.train.GradientDescentOptimizer(0.01).minimize(cost)\n",
    "\n",
    "# shortcut to initialize all global variables\n",
    "init = tf.global_variables_initializer()\n",
    "# start a tensorflow session using the initialized variables\n",
    "session = tf.Session()\n",
    "session.run(init)\n",
    "# Runs the definition of w, if you print this it will print zero\n",
    "print(session.run(w))"
   ]
  },
  {
   "cell_type": "code",
   "execution_count": 4,
   "metadata": {},
   "outputs": [
    {
     "name": "stdout",
     "output_type": "stream",
     "text": [
      "0.099999994\n"
     ]
    }
   ],
   "source": [
    "# evaluation w after one step of gradient descent\n",
    "session.run(train, feed_dict={x:coefficients})\n",
    "print(session.run(w))"
   ]
  },
  {
   "cell_type": "code",
   "execution_count": 5,
   "metadata": {},
   "outputs": [
    {
     "name": "stdout",
     "output_type": "stream",
     "text": [
      "4.9999886\n"
     ]
    }
   ],
   "source": [
    "for i in range(1000):\n",
    "    session.run(train, feed_dict={x:coefficients})\n",
    "print(session.run(w))"
   ]
  },
  {
   "cell_type": "markdown",
   "metadata": {},
   "source": [
    "Therefore the optimal value of $w=5$"
   ]
  }
 ],
 "metadata": {
  "kernelspec": {
   "display_name": "Python 3",
   "language": "python",
   "name": "python3"
  },
  "language_info": {
   "codemirror_mode": {
    "name": "ipython",
    "version": 3
   },
   "file_extension": ".py",
   "mimetype": "text/x-python",
   "name": "python",
   "nbconvert_exporter": "python",
   "pygments_lexer": "ipython3",
   "version": "3.7.3"
  }
 },
 "nbformat": 4,
 "nbformat_minor": 4
}
